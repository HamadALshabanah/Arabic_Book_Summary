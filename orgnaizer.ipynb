{
 "cells": [
  {
   "cell_type": "code",
   "execution_count": 1,
   "metadata": {},
   "outputs": [],
   "source": [
    "from pyarabic.araby import strip_tashkeel\n",
    "import pandas as pd"
   ]
  },
  {
   "cell_type": "code",
   "execution_count": 2,
   "metadata": {},
   "outputs": [],
   "source": [
    "df_two = pd.read_csv('engzketab (2).csv')"
   ]
  },
  {
   "cell_type": "code",
   "execution_count": 3,
   "metadata": {},
   "outputs": [
    {
     "data": {
      "text/plain": [
       "Index(['web-scraper-order', 'web-scraper-start-url', 'book-summ-search',\n",
       "       'book-summ-search-href', 'book-selector', 'book-selector-href',\n",
       "       'Book-summary', 'more-selector', 'more-selector-href',\n",
       "       'book-selector-more', 'book-selector-more-href', 'Book-Summary-more',\n",
       "       'Book-name', 'author-name', 'Book-name-more', 'author-name-more'],\n",
       "      dtype='object')"
      ]
     },
     "execution_count": 3,
     "metadata": {},
     "output_type": "execute_result"
    }
   ],
   "source": [
    "df_two.columns\n",
    "\n"
   ]
  },
  {
   "cell_type": "code",
   "execution_count": 4,
   "metadata": {},
   "outputs": [
    {
     "name": "stdout",
     "output_type": "stream",
     "text": [
      "<class 'pandas.core.series.Series'>\n",
      "RangeIndex: 1227 entries, 0 to 1226\n",
      "Series name: Book-name\n",
      "Non-Null Count  Dtype \n",
      "--------------  ----- \n",
      "136 non-null    object\n",
      "dtypes: object(1)\n",
      "memory usage: 9.7+ KB\n",
      "None\n"
     ]
    }
   ],
   "source": [
    "print(df_two['Book-name'].info())\n"
   ]
  },
  {
   "cell_type": "code",
   "execution_count": 5,
   "metadata": {},
   "outputs": [],
   "source": [
    "df_two['summary'] = pd.concat([df_two['Book-summary'].dropna(), df_two['Book-Summary-more'].dropna()]).drop_duplicates()"
   ]
  },
  {
   "cell_type": "code",
   "execution_count": 6,
   "metadata": {},
   "outputs": [
    {
     "data": {
      "text/plain": [
       "409"
      ]
     },
     "execution_count": 6,
     "metadata": {},
     "output_type": "execute_result"
    }
   ],
   "source": [
    "df_two['summary'].count()"
   ]
  },
  {
   "cell_type": "code",
   "execution_count": 7,
   "metadata": {},
   "outputs": [],
   "source": [
    "df_two['author-name-final'] = pd.concat([df_two['author-name'],df_two['author-name-more']],ignore_index=True)"
   ]
  },
  {
   "cell_type": "code",
   "execution_count": 8,
   "metadata": {},
   "outputs": [],
   "source": [
    "df_two['Book-name-final'] = pd.concat([df_two['Book-name'],df_two['Book-name-more']],ignore_index=True)"
   ]
  },
  {
   "cell_type": "code",
   "execution_count": null,
   "metadata": {},
   "outputs": [],
   "source": [
    "df_two"
   ]
  },
  {
   "cell_type": "code",
   "execution_count": 10,
   "metadata": {},
   "outputs": [],
   "source": [
    "df_filtered = df_two.loc[:, ['summary', 'Book-name-final', 'author-name-final']]\n"
   ]
  },
  {
   "cell_type": "code",
   "execution_count": 11,
   "metadata": {},
   "outputs": [
    {
     "data": {
      "text/html": [
       "<div>\n",
       "<style scoped>\n",
       "    .dataframe tbody tr th:only-of-type {\n",
       "        vertical-align: middle;\n",
       "    }\n",
       "\n",
       "    .dataframe tbody tr th {\n",
       "        vertical-align: top;\n",
       "    }\n",
       "\n",
       "    .dataframe thead th {\n",
       "        text-align: right;\n",
       "    }\n",
       "</style>\n",
       "<table border=\"1\" class=\"dataframe\">\n",
       "  <thead>\n",
       "    <tr style=\"text-align: right;\">\n",
       "      <th></th>\n",
       "      <th>summary</th>\n",
       "      <th>Book-name-final</th>\n",
       "      <th>author-name-final</th>\n",
       "    </tr>\n",
       "  </thead>\n",
       "  <tbody>\n",
       "    <tr>\n",
       "      <th>0</th>\n",
       "      <td>ملخص كتاب شركات أنشئت لتبقىالعادات الناجحة للش...</td>\n",
       "      <td>NaN</td>\n",
       "      <td>NaN</td>\n",
       "    </tr>\n",
       "    <tr>\n",
       "      <th>1</th>\n",
       "      <td>NaN</td>\n",
       "      <td>NaN</td>\n",
       "      <td>NaN</td>\n",
       "    </tr>\n",
       "    <tr>\n",
       "      <th>2</th>\n",
       "      <td>NaN</td>\n",
       "      <td>NaN</td>\n",
       "      <td>NaN</td>\n",
       "    </tr>\n",
       "    <tr>\n",
       "      <th>3</th>\n",
       "      <td>ملخص كتاب كيفيّة جَذبِ العملاءِالدعايا الناجحة...</td>\n",
       "      <td>NaN</td>\n",
       "      <td>NaN</td>\n",
       "    </tr>\n",
       "    <tr>\n",
       "      <th>4</th>\n",
       "      <td>NaN</td>\n",
       "      <td>NaN</td>\n",
       "      <td>NaN</td>\n",
       "    </tr>\n",
       "    <tr>\n",
       "      <th>...</th>\n",
       "      <td>...</td>\n",
       "      <td>...</td>\n",
       "      <td>...</td>\n",
       "    </tr>\n",
       "    <tr>\n",
       "      <th>1222</th>\n",
       "      <td>NaN</td>\n",
       "      <td>ملخص كتاب سيكولوجية الجماهير</td>\n",
       "      <td>NaN</td>\n",
       "    </tr>\n",
       "    <tr>\n",
       "      <th>1223</th>\n",
       "      <td>NaN</td>\n",
       "      <td>NaN</td>\n",
       "      <td>غوستاف لوبون</td>\n",
       "    </tr>\n",
       "    <tr>\n",
       "      <th>1224</th>\n",
       "      <td>ملخص كتاب الطريق من هناحتى تعود الأمة لمكانتها...</td>\n",
       "      <td>NaN</td>\n",
       "      <td>NaN</td>\n",
       "    </tr>\n",
       "    <tr>\n",
       "      <th>1225</th>\n",
       "      <td>NaN</td>\n",
       "      <td>ملخص كتاب الطريق من هنا</td>\n",
       "      <td>NaN</td>\n",
       "    </tr>\n",
       "    <tr>\n",
       "      <th>1226</th>\n",
       "      <td>NaN</td>\n",
       "      <td>NaN</td>\n",
       "      <td>محمد الغزالي</td>\n",
       "    </tr>\n",
       "  </tbody>\n",
       "</table>\n",
       "<p>1227 rows × 3 columns</p>\n",
       "</div>"
      ],
      "text/plain": [
       "                                                summary  \\\n",
       "0     ملخص كتاب شركات أنشئت لتبقىالعادات الناجحة للش...   \n",
       "1                                                   NaN   \n",
       "2                                                   NaN   \n",
       "3     ملخص كتاب كيفيّة جَذبِ العملاءِالدعايا الناجحة...   \n",
       "4                                                   NaN   \n",
       "...                                                 ...   \n",
       "1222                                                NaN   \n",
       "1223                                                NaN   \n",
       "1224  ملخص كتاب الطريق من هناحتى تعود الأمة لمكانتها...   \n",
       "1225                                                NaN   \n",
       "1226                                                NaN   \n",
       "\n",
       "                   Book-name-final author-name-final  \n",
       "0                              NaN               NaN  \n",
       "1                              NaN               NaN  \n",
       "2                              NaN               NaN  \n",
       "3                              NaN               NaN  \n",
       "4                              NaN               NaN  \n",
       "...                            ...               ...  \n",
       "1222  ملخص كتاب سيكولوجية الجماهير               NaN  \n",
       "1223                           NaN      غوستاف لوبون  \n",
       "1224                           NaN               NaN  \n",
       "1225       ملخص كتاب الطريق من هنا               NaN  \n",
       "1226                           NaN      محمد الغزالي  \n",
       "\n",
       "[1227 rows x 3 columns]"
      ]
     },
     "execution_count": 11,
     "metadata": {},
     "output_type": "execute_result"
    }
   ],
   "source": [
    "df_filtered"
   ]
  },
  {
   "cell_type": "code",
   "execution_count": 14,
   "metadata": {},
   "outputs": [],
   "source": [
    "df_filtered = df_filtered.dropna(subset=['summary'])"
   ]
  },
  {
   "cell_type": "code",
   "execution_count": 12,
   "metadata": {},
   "outputs": [],
   "source": [
    "def remove_tashkeel(txt):\n",
    "    text = strip_tashkeel(txt)\n",
    "    return text"
   ]
  },
  {
   "cell_type": "code",
   "execution_count": 16,
   "metadata": {},
   "outputs": [
    {
     "name": "stderr",
     "output_type": "stream",
     "text": [
      "C:\\Users\\Hamad\\AppData\\Local\\Temp\\ipykernel_37076\\3802104322.py:17: SettingWithCopyWarning: \n",
      "A value is trying to be set on a copy of a slice from a DataFrame.\n",
      "Try using .loc[row_indexer,col_indexer] = value instead\n",
      "\n",
      "See the caveats in the documentation: https://pandas.pydata.org/pandas-docs/stable/user_guide/indexing.html#returning-a-view-versus-a-copy\n",
      "  df_filtered['Book-title'] = df_filtered['summary'].apply(find_book_title)\n"
     ]
    },
    {
     "data": {
      "text/plain": [
       "409"
      ]
     },
     "execution_count": 16,
     "metadata": {},
     "output_type": "execute_result"
    }
   ],
   "source": [
    "import re\n",
    "def find_book_title(text):\n",
    "    text_ = remove_tashkeel(text)\n",
    "    ketab = 'كتاب'\n",
    "    pattern = f\"{re.escape(ketab)}[\\s\\S]+?(\\w+)[\\s\\S]+?(\\w+)[\\s\\S]+?(\\w+)\"\n",
    "    matches = re.search(pattern, text_)\n",
    "    if matches:\n",
    "       x=matches.group(1), matches.group(2), matches.group(3)\n",
    "       result = f\"{ketab} \"+ \" \".join(x)\n",
    "       return result\n",
    "    return None\n",
    "\n",
    "\n",
    "# book_title = []\n",
    "# for summary in df_filtered['Book-summary-final']:\n",
    "#     txt = find_book_title(summary)\n",
    "df_filtered['Book-title'] = df_filtered['summary'].apply(find_book_title)\n",
    "\n",
    "len(df_filtered)"
   ]
  },
  {
   "cell_type": "code",
   "execution_count": 17,
   "metadata": {},
   "outputs": [],
   "source": [
    "df_filtered=df_filtered.reset_index()"
   ]
  },
  {
   "cell_type": "code",
   "execution_count": 22,
   "metadata": {},
   "outputs": [
    {
     "data": {
      "text/plain": [
       "0"
      ]
     },
     "execution_count": 22,
     "metadata": {},
     "output_type": "execute_result"
    }
   ],
   "source": [
    "df_filtered['summary'].isna().sum()"
   ]
  },
  {
   "cell_type": "code",
   "execution_count": null,
   "metadata": {},
   "outputs": [],
   "source": [
    "df_filtered.to_csv('book_summary_title.csv')"
   ]
  },
  {
   "cell_type": "code",
   "execution_count": null,
   "metadata": {},
   "outputs": [],
   "source": []
  }
 ],
 "metadata": {
  "kernelspec": {
   "display_name": "Python 3",
   "language": "python",
   "name": "python3"
  },
  "language_info": {
   "codemirror_mode": {
    "name": "ipython",
    "version": 3
   },
   "file_extension": ".py",
   "mimetype": "text/x-python",
   "name": "python",
   "nbconvert_exporter": "python",
   "pygments_lexer": "ipython3",
   "version": "3.11.4"
  },
  "orig_nbformat": 4
 },
 "nbformat": 4,
 "nbformat_minor": 2
}
